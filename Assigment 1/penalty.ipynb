{
 "cells": [
  {
   "cell_type": "markdown",
   "metadata": {},
   "source": [
    "# Penalty kicks \n",
    "\n",
    "This notebook analyzes the penalty kick data as a simultaneous move game of complete information. The data come from English premier league games in 2016-17. \n",
    "\n",
    "**Data source:** https://www.kaggle.com/mauryashubham/english-premier-league-penalty-dataset-201617"
   ]
  },
  {
   "cell_type": "code",
   "execution_count": 1,
   "metadata": {},
   "outputs": [],
   "source": [
    "import pandas as pd \n",
    "import numpy as np \n",
    "import nashpy as n\n",
    "import matplotlib.pyplot as plt "
   ]
  },
  {
   "cell_type": "markdown",
   "metadata": {},
   "source": [
    "Global settings for pandas printing floats with two decimals. "
   ]
  },
  {
   "cell_type": "code",
   "execution_count": 2,
   "metadata": {},
   "outputs": [],
   "source": [
    "pd.options.display.float_format = '{:,.2f}'.format"
   ]
  },
  {
   "cell_type": "code",
   "execution_count": 3,
   "metadata": {},
   "outputs": [],
   "source": [
    "def print_payoffs(U, A): \n",
    "    '''print_payoffs: Nicely formatted for a 2*2 game \n",
    "        INPUTS: \n",
    "            U1,U2: (matrices, dim=na1*na2) Payoffs \n",
    "            A1: (list of str, len=na1) List of actions of player 1\n",
    "            A2: (list of str, len=na2) list of actions of player 2\n",
    "        \n",
    "        OUTPUT:\n",
    "            tab: pandas dataframe, na1*na2 with payoff tuples \n",
    "    '''\n",
    "    assert len(U) == 2, f'only implemented for 2-player games'\n",
    "    assert len(A) == 2, f'only implemented for 2-player games'\n",
    "\n",
    "    U1 = U[0]\n",
    "    U2 = U[1]\n",
    "    A1 = A[0]\n",
    "    A2 = A[1]\n",
    "\n",
    "    na1,na2 = U1.shape\n",
    "    assert len(A1) == na1\n",
    "    assert len(A2) == na2\n",
    "\n",
    "    # \"matrix\" of tuples \n",
    "    X = [[(U1[r,c],U2[r,c]) for c in range(na2)] for r in range(na1)]\n",
    "\n",
    "    # dataframe version \n",
    "    tab = pd.DataFrame(X, columns=A2, index=A1)\n",
    "    \n",
    "    return tab "
   ]
  },
  {
   "cell_type": "code",
   "execution_count": 4,
   "metadata": {},
   "outputs": [],
   "source": [
    "dat = pd.read_csv('penalty_data.csv', encoding='latin')"
   ]
  },
  {
   "cell_type": "code",
   "execution_count": 5,
   "metadata": {},
   "outputs": [],
   "source": [
    "dat['Date'] = pd.to_datetime(dat.Date)"
   ]
  },
  {
   "cell_type": "code",
   "execution_count": 6,
   "metadata": {},
   "outputs": [
    {
     "name": "stdout",
     "output_type": "stream",
     "text": [
      "Penalty kicks from games: \n"
     ]
    },
    {
     "data": {
      "text/plain": [
       "2016    63\n",
       "2017    43\n",
       "Name: Date, dtype: int64"
      ]
     },
     "execution_count": 6,
     "metadata": {},
     "output_type": "execute_result"
    }
   ],
   "source": [
    "print(f'Penalty kicks from games: ')\n",
    "dat.Date.dt.year.value_counts()"
   ]
  },
  {
   "cell_type": "code",
   "execution_count": 7,
   "metadata": {},
   "outputs": [
    {
     "data": {
      "text/html": [
       "<div>\n",
       "<style scoped>\n",
       "    .dataframe tbody tr th:only-of-type {\n",
       "        vertical-align: middle;\n",
       "    }\n",
       "\n",
       "    .dataframe tbody tr th {\n",
       "        vertical-align: top;\n",
       "    }\n",
       "\n",
       "    .dataframe thead th {\n",
       "        text-align: right;\n",
       "    }\n",
       "</style>\n",
       "<table border=\"1\" class=\"dataframe\">\n",
       "  <thead>\n",
       "    <tr style=\"text-align: right;\">\n",
       "      <th></th>\n",
       "      <th>No.</th>\n",
       "      <th>Match Week</th>\n",
       "      <th>Date</th>\n",
       "      <th>Player</th>\n",
       "      <th>Team</th>\n",
       "      <th>Match</th>\n",
       "      <th>Time of Penalty Awarded</th>\n",
       "      <th>Scored</th>\n",
       "      <th>Final Results</th>\n",
       "      <th>Foot</th>\n",
       "      <th>Kick_Direction</th>\n",
       "      <th>Keeper_Direction</th>\n",
       "      <th>Saved</th>\n",
       "    </tr>\n",
       "  </thead>\n",
       "  <tbody>\n",
       "    <tr>\n",
       "      <th>0</th>\n",
       "      <td>1</td>\n",
       "      <td>1</td>\n",
       "      <td>2016-08-13</td>\n",
       "      <td>Riyad Mahrez</td>\n",
       "      <td>Leicester</td>\n",
       "      <td>Hull vs Leicester</td>\n",
       "      <td>47' minute</td>\n",
       "      <td>Scored</td>\n",
       "      <td>42737</td>\n",
       "      <td>L</td>\n",
       "      <td>C</td>\n",
       "      <td>R</td>\n",
       "      <td>NaN</td>\n",
       "    </tr>\n",
       "    <tr>\n",
       "      <th>1</th>\n",
       "      <td>2</td>\n",
       "      <td>1</td>\n",
       "      <td>2016-08-13</td>\n",
       "      <td>Sergio Agüero</td>\n",
       "      <td>Man City</td>\n",
       "      <td>Man City vs Sunderland</td>\n",
       "      <td>4' minute</td>\n",
       "      <td>Scored</td>\n",
       "      <td>42737</td>\n",
       "      <td>R</td>\n",
       "      <td>L</td>\n",
       "      <td>L</td>\n",
       "      <td>NaN</td>\n",
       "    </tr>\n",
       "    <tr>\n",
       "      <th>2</th>\n",
       "      <td>3</td>\n",
       "      <td>1</td>\n",
       "      <td>2016-08-14</td>\n",
       "      <td>Theo Walcott</td>\n",
       "      <td>Arsenal</td>\n",
       "      <td>Arsenal vs Liverpool</td>\n",
       "      <td>30' minute</td>\n",
       "      <td>Missed</td>\n",
       "      <td>42828</td>\n",
       "      <td>R</td>\n",
       "      <td>L</td>\n",
       "      <td>L</td>\n",
       "      <td>1.00</td>\n",
       "    </tr>\n",
       "  </tbody>\n",
       "</table>\n",
       "</div>"
      ],
      "text/plain": [
       "   No.  Match Week       Date         Player       Team  \\\n",
       "0    1           1 2016-08-13   Riyad Mahrez  Leicester   \n",
       "1    2           1 2016-08-13  Sergio Agüero   Man City   \n",
       "2    3           1 2016-08-14   Theo Walcott    Arsenal   \n",
       "\n",
       "                    Match Time of Penalty Awarded  Scored Final Results Foot  \\\n",
       "0       Hull vs Leicester              47' minute  Scored         42737    L   \n",
       "1  Man City vs Sunderland               4' minute  Scored         42737    R   \n",
       "2    Arsenal vs Liverpool              30' minute  Missed         42828    R   \n",
       "\n",
       "  Kick_Direction Keeper_Direction  Saved  \n",
       "0              C                R    NaN  \n",
       "1              L                L    NaN  \n",
       "2              L                L   1.00  "
      ]
     },
     "execution_count": 7,
     "metadata": {},
     "output_type": "execute_result"
    }
   ],
   "source": [
    "dat.head(3)"
   ]
  },
  {
   "cell_type": "markdown",
   "metadata": {},
   "source": [
    "There are missing observations in the data. We can only analyzes instances where all variables are observed. "
   ]
  },
  {
   "cell_type": "code",
   "execution_count": 8,
   "metadata": {},
   "outputs": [
    {
     "name": "stdout",
     "output_type": "stream",
     "text": [
      "Deleting 3 rows => N = 103 penalty kicks in final data.\n"
     ]
    }
   ],
   "source": [
    "I = (dat.Kick_Direction.notnull()) & (dat.Keeper_Direction.notnull()) & (dat.Scored.notnull())\n",
    "print(f'Deleting {(I==False).sum()} rows => N = {I.sum()} penalty kicks in final data.')\n",
    "dat = dat[I].copy()"
   ]
  },
  {
   "cell_type": "markdown",
   "metadata": {},
   "source": [
    "**Action distribution:** How frequently do each player choose each action? "
   ]
  },
  {
   "cell_type": "code",
   "execution_count": 9,
   "metadata": {},
   "outputs": [
    {
     "data": {
      "text/plain": [
       "L   0.46\n",
       "R   0.38\n",
       "C   0.17\n",
       "Name: Kick_Direction, dtype: float64"
      ]
     },
     "execution_count": 9,
     "metadata": {},
     "output_type": "execute_result"
    }
   ],
   "source": [
    "dat.Kick_Direction.value_counts(normalize=True)"
   ]
  },
  {
   "cell_type": "code",
   "execution_count": 10,
   "metadata": {},
   "outputs": [
    {
     "data": {
      "text/plain": [
       "R   0.50\n",
       "L   0.44\n",
       "C   0.06\n",
       "Name: Keeper_Direction, dtype: float64"
      ]
     },
     "execution_count": 10,
     "metadata": {},
     "output_type": "execute_result"
    }
   ],
   "source": [
    "dat.Keeper_Direction.value_counts(normalize=True)"
   ]
  },
  {
   "cell_type": "markdown",
   "metadata": {},
   "source": [
    "**Joint distribution** Plotted together by cross-tabulating, we get: "
   ]
  },
  {
   "cell_type": "code",
   "execution_count": 11,
   "metadata": {},
   "outputs": [
    {
     "data": {
      "text/html": [
       "<div>\n",
       "<style scoped>\n",
       "    .dataframe tbody tr th:only-of-type {\n",
       "        vertical-align: middle;\n",
       "    }\n",
       "\n",
       "    .dataframe tbody tr th {\n",
       "        vertical-align: top;\n",
       "    }\n",
       "\n",
       "    .dataframe thead th {\n",
       "        text-align: right;\n",
       "    }\n",
       "</style>\n",
       "<table border=\"1\" class=\"dataframe\">\n",
       "  <thead>\n",
       "    <tr style=\"text-align: right;\">\n",
       "      <th>Kick_Direction</th>\n",
       "      <th>C</th>\n",
       "      <th>L</th>\n",
       "      <th>R</th>\n",
       "    </tr>\n",
       "    <tr>\n",
       "      <th>Keeper_Direction</th>\n",
       "      <th></th>\n",
       "      <th></th>\n",
       "      <th></th>\n",
       "    </tr>\n",
       "  </thead>\n",
       "  <tbody>\n",
       "    <tr>\n",
       "      <th>C</th>\n",
       "      <td>1</td>\n",
       "      <td>2</td>\n",
       "      <td>3</td>\n",
       "    </tr>\n",
       "    <tr>\n",
       "      <th>L</th>\n",
       "      <td>7</td>\n",
       "      <td>20</td>\n",
       "      <td>18</td>\n",
       "    </tr>\n",
       "    <tr>\n",
       "      <th>R</th>\n",
       "      <td>9</td>\n",
       "      <td>25</td>\n",
       "      <td>18</td>\n",
       "    </tr>\n",
       "  </tbody>\n",
       "</table>\n",
       "</div>"
      ],
      "text/plain": [
       "Kick_Direction    C   L   R\n",
       "Keeper_Direction           \n",
       "C                 1   2   3\n",
       "L                 7  20  18\n",
       "R                 9  25  18"
      ]
     },
     "execution_count": 11,
     "metadata": {},
     "output_type": "execute_result"
    }
   ],
   "source": [
    "pd.crosstab(dat.Keeper_Direction, dat.Kick_Direction)"
   ]
  },
  {
   "cell_type": "markdown",
   "metadata": {},
   "source": [
    "The key outcome: whether a goal was scored or not"
   ]
  },
  {
   "cell_type": "code",
   "execution_count": 12,
   "metadata": {},
   "outputs": [],
   "source": [
    "dat['goal'] = dat.Scored == 'Scored' # penalty kick resulted in a score"
   ]
  },
  {
   "cell_type": "markdown",
   "metadata": {},
   "source": [
    "# Reduced matrix, discarding `C`"
   ]
  },
  {
   "cell_type": "code",
   "execution_count": 13,
   "metadata": {},
   "outputs": [],
   "source": [
    "I = (dat.Kick_Direction != \"C\") & (dat.Keeper_Direction != \"C\")"
   ]
  },
  {
   "cell_type": "code",
   "execution_count": 14,
   "metadata": {},
   "outputs": [
    {
     "data": {
      "text/html": [
       "<div>\n",
       "<style scoped>\n",
       "    .dataframe tbody tr th:only-of-type {\n",
       "        vertical-align: middle;\n",
       "    }\n",
       "\n",
       "    .dataframe tbody tr th {\n",
       "        vertical-align: top;\n",
       "    }\n",
       "\n",
       "    .dataframe thead th {\n",
       "        text-align: right;\n",
       "    }\n",
       "</style>\n",
       "<table border=\"1\" class=\"dataframe\">\n",
       "  <thead>\n",
       "    <tr style=\"text-align: right;\">\n",
       "      <th>Keeper_Direction</th>\n",
       "      <th>L</th>\n",
       "      <th>R</th>\n",
       "    </tr>\n",
       "    <tr>\n",
       "      <th>Kick_Direction</th>\n",
       "      <th></th>\n",
       "      <th></th>\n",
       "    </tr>\n",
       "  </thead>\n",
       "  <tbody>\n",
       "    <tr>\n",
       "      <th>L</th>\n",
       "      <td>0.65</td>\n",
       "      <td>0.88</td>\n",
       "    </tr>\n",
       "    <tr>\n",
       "      <th>R</th>\n",
       "      <td>0.83</td>\n",
       "      <td>0.56</td>\n",
       "    </tr>\n",
       "  </tbody>\n",
       "</table>\n",
       "</div>"
      ],
      "text/plain": [
       "Keeper_Direction    L    R\n",
       "Kick_Direction            \n",
       "L                0.65 0.88\n",
       "R                0.83 0.56"
      ]
     },
     "execution_count": 14,
     "metadata": {},
     "output_type": "execute_result"
    }
   ],
   "source": [
    "shares = dat.loc[I].groupby(['Kick_Direction', 'Keeper_Direction']).goal.mean().unstack().round(2)\n",
    "shares"
   ]
  },
  {
   "cell_type": "code",
   "execution_count": 15,
   "metadata": {},
   "outputs": [
    {
     "name": "stdout",
     "output_type": "stream",
     "text": [
      "['L' 'R']\n",
      "['L' 'R']\n"
     ]
    }
   ],
   "source": [
    "# extracting the names of the actions \n",
    "A1 = shares.index.values\n",
    "A2 = shares.columns.values\n",
    "\n",
    "print(A1)\n",
    "print(A2)"
   ]
  },
  {
   "cell_type": "markdown",
   "metadata": {},
   "source": [
    "**Function imports**"
   ]
  },
  {
   "cell_type": "code",
   "execution_count": 16,
   "metadata": {},
   "outputs": [],
   "source": [
    "\n",
    "def solve_for_MSNE(U1, U2, DOPLOT=True): \n",
    "    g = n.Game(U1, U2)\n",
    "    eqs = list(g.support_enumeration())\n",
    "    print(f'Found {len(eqs)} equilibria:')\n",
    "    for i,eq in enumerate(eqs):\n",
    "        print(f'{i+1}: {eq}')\n",
    "    if DOPLOT: \n",
    "        eqs = np.array(eqs) # 3-dim: (equilibrium, player, action)\n",
    "        i_action = 0 # the x and y axes will show Pr(first action chosen)\n",
    "        plt.scatter(eqs[:,0,i_action], eqs[:,1,i_action], color='black', label='NE') # the axes show \n",
    "        for eq in np.array(eqs): \n",
    "            plt.scatter(eq[0,0], eq[1,0], color='black')\n",
    "    else: \n",
    "        return eqs\n",
    "\n",
    "def BR_1(Eu1): \n",
    "    '''Best response in binary actions \n",
    "    '''\n",
    "    x,G = Eu1.shape\n",
    "    assert x == 2, f'Eu must be 2*G'\n",
    "    \n",
    "    br = np.empty((G,))\n",
    "    \n",
    "    I = Eu1[0,:] > Eu1[1,:]\n",
    "    br[I] = 1 # the 0th action gives the highest payoff, so Pr(0th action) = 100% \n",
    "    I = Eu1[0,:] < Eu1[1,:]\n",
    "    br[I] = 0 # the last action gives the highest payoff, so Pr(first action) = 0%\n",
    "    I = np.isclose(Eu1[0, :], Eu1[1, :])\n",
    "    br[I] = 0.5 # actually, the best response is *any* probability in [0;1]. But for plotting purposes, we use 50%\n",
    "    \n",
    "    return br\n",
    "\n",
    "def plot_BR_functions_2x2(U1, U2, G=100):\n",
    "    '''\n",
    "    Inputs:\n",
    "        G: (int) number of grid points \n",
    "    Outputs: None\n",
    "    '''\n",
    "    p = np.linspace(0,1,G)\n",
    "    pp = np.hstack([p,1-p]).reshape(2,G)\n",
    "\n",
    "    Eu1 = U1 @ pp\n",
    "    br1 = BR_1(Eu1)\n",
    "    Eu2 = pp.T @ U2\n",
    "    br2 = BR_1(Eu2.T)\n",
    "\n",
    "    # bonus stuff to handle when there is mixing in the extremes \n",
    "    ps = dict()\n",
    "    brs = dict()\n",
    "    for i,br in enumerate([br1, br2]): \n",
    "        assert not (br==0.5).all() , f'Not implemented for pure mixing'\n",
    "        ps[i] = p.copy()\n",
    "        brs[i] = br.copy()\n",
    "        if br[0] == 0.5: # indifference occurs at the very first element\n",
    "            ps[i] = np.insert(ps[i], 0, 0.0) # the first probability is 0%\n",
    "            if br[1] == 1.0: # increasing \n",
    "                brs[i]    = np.insert(br, 0, 0.0) # 0.0 to 0.5 to 1.0\n",
    "            else: # decreasing \n",
    "                brs[i]    = np.insert(br, 0, 1.0) # 1.0 to 0.5 to 0.0\n",
    "        if br[-1] == 0.5: # indifference at the last point \n",
    "            ps[i] = np.append(ps[i], 1.0) # the last probability is 100%\n",
    "            if br[-2] == 1.0: # decreasing \n",
    "                brs[i]    = np.append(br, 0.0) # from 1.0 to 0.5 to 0.0 \n",
    "            else: \n",
    "                brs[i]    = np.append(br, 1.0) # from 0.0 to 0.5 to 1.0 \n",
    "\n",
    "    fig,ax = plt.subplots()\n",
    "    ax.plot(brs[0], ps[0], '-',  color='r', label=f'Sparker: $BR_1(a_2)$');\n",
    "    ax.plot(ps[1], brs[1], '--', color='b', label=f'Målmand: $BR_2(a_1)$');\n",
    "\n",
    "    # add the MSNE on top of the graph \n",
    "    eqs = solve_for_MSNE(U1, U2, DOPLOT=True)\n",
    "    \n",
    "    ax.legend(loc='best');\n",
    "    ax.set_xlabel('$\\Pr(a_1 = L)$');\n",
    "    ax.set_ylabel('$\\Pr(a_2 = L)$');    \n",
    "    \n",
    "\n",
    "\n",
    "\n"
   ]
  },
  {
   "cell_type": "markdown",
   "metadata": {},
   "source": [
    "**Solution 1.2**\n"
   ]
  },
  {
   "cell_type": "code",
   "execution_count": 17,
   "metadata": {},
   "outputs": [
    {
     "name": "stdout",
     "output_type": "stream",
     "text": [
      "Found 1 equilibria:\n",
      "1: (array([0.54, 0.46]), array([0.64, 0.36]))\n"
     ]
    },
    {
     "data": {
      "image/png": "[encoded data removed]",
      "text/plain": [
       "<Figure size 640x480 with 1 Axes>"
      ]
     },
     "metadata": {},
     "output_type": "display_data"
    }
   ],
   "source": [
    "U1 = shares.values\n",
    "U2 = -U1\n",
    "\n",
    "plot_BR_functions_2x2(U1, U2)"
   ]
  },
  {
   "cell_type": "markdown",
   "metadata": {},
   "source": [
    "# Full payoff matrix"
   ]
  },
  {
   "cell_type": "markdown",
   "metadata": {},
   "source": [
    "Display overall means of the key outcome (whether a goal was scored). "
   ]
  },
  {
   "cell_type": "code",
   "execution_count": 18,
   "metadata": {},
   "outputs": [
    {
     "data": {
      "text/html": [
       "<div>\n",
       "<style scoped>\n",
       "    .dataframe tbody tr th:only-of-type {\n",
       "        vertical-align: middle;\n",
       "    }\n",
       "\n",
       "    .dataframe tbody tr th {\n",
       "        vertical-align: top;\n",
       "    }\n",
       "\n",
       "    .dataframe thead th {\n",
       "        text-align: right;\n",
       "    }\n",
       "</style>\n",
       "<table border=\"1\" class=\"dataframe\">\n",
       "  <thead>\n",
       "    <tr style=\"text-align: right;\">\n",
       "      <th>Keeper_Direction</th>\n",
       "      <th>L</th>\n",
       "      <th>C</th>\n",
       "      <th>R</th>\n",
       "    </tr>\n",
       "    <tr>\n",
       "      <th>Kick_Direction</th>\n",
       "      <th></th>\n",
       "      <th></th>\n",
       "      <th></th>\n",
       "    </tr>\n",
       "  </thead>\n",
       "  <tbody>\n",
       "    <tr>\n",
       "      <th>L</th>\n",
       "      <td>0.65</td>\n",
       "      <td>1.00</td>\n",
       "      <td>0.88</td>\n",
       "    </tr>\n",
       "    <tr>\n",
       "      <th>C</th>\n",
       "      <td>1.00</td>\n",
       "      <td>0.00</td>\n",
       "      <td>0.89</td>\n",
       "    </tr>\n",
       "    <tr>\n",
       "      <th>R</th>\n",
       "      <td>0.83</td>\n",
       "      <td>1.00</td>\n",
       "      <td>0.56</td>\n",
       "    </tr>\n",
       "  </tbody>\n",
       "</table>\n",
       "</div>"
      ],
      "text/plain": [
       "Keeper_Direction    L    C    R\n",
       "Kick_Direction                 \n",
       "L                0.65 1.00 0.88\n",
       "C                1.00 0.00 0.89\n",
       "R                0.83 1.00 0.56"
      ]
     },
     "execution_count": 18,
     "metadata": {},
     "output_type": "execute_result"
    }
   ],
   "source": [
    "A = ['L','C','R'] # sequence of the actions \n",
    "goals = dat.groupby(['Kick_Direction', 'Keeper_Direction']).goal.mean().unstack().loc[A, A]\n",
    "goals.round(2)"
   ]
  },
  {
   "cell_type": "code",
   "execution_count": 19,
   "metadata": {},
   "outputs": [
    {
     "data": {
      "text/plain": [
       "array([[0.65      , 1.        , 0.88      ],\n",
       "       [1.        , 0.        , 0.88888889],\n",
       "       [0.83333333, 1.        , 0.55555556]])"
      ]
     },
     "execution_count": 19,
     "metadata": {},
     "output_type": "execute_result"
    }
   ],
   "source": [
    "U = goals.values\n",
    "U"
   ]
  },
  {
   "cell_type": "markdown",
   "metadata": {},
   "source": [
    "***... continue from here...***"
   ]
  },
  {
   "cell_type": "markdown",
   "metadata": {},
   "source": [
    "# A different dataset\n",
    "\n",
    "The following dataset comes from a different source: The French and Italian elite leagues from 1997-2000, totalling 459 observations of penalty kicks. The raw micro data is not available, but Tables 3 and 4 provide us what we need to conduct the same analysis as above. \n",
    "\n",
    "* **Source:** Chiappori, Levitt, and Groseclose (2003): \"Testing Mixed-Strategy Equilibria When Players Are Heterogeneous: The Case of Penalty Kicks in Soccer\", *American Economic Review*, vol 91, no. 4. "
   ]
  },
  {
   "cell_type": "code",
   "execution_count": 39,
   "metadata": {},
   "outputs": [
    {
     "data": {
      "text/html": [
       "<div>\n",
       "<style scoped>\n",
       "    .dataframe tbody tr th:only-of-type {\n",
       "        vertical-align: middle;\n",
       "    }\n",
       "\n",
       "    .dataframe tbody tr th {\n",
       "        vertical-align: top;\n",
       "    }\n",
       "\n",
       "    .dataframe thead th {\n",
       "        text-align: right;\n",
       "    }\n",
       "</style>\n",
       "<table border=\"1\" class=\"dataframe\">\n",
       "  <thead>\n",
       "    <tr style=\"text-align: right;\">\n",
       "      <th>Goalie</th>\n",
       "      <th>L</th>\n",
       "      <th>C</th>\n",
       "      <th>R</th>\n",
       "    </tr>\n",
       "    <tr>\n",
       "      <th>Kicker</th>\n",
       "      <th></th>\n",
       "      <th></th>\n",
       "      <th></th>\n",
       "    </tr>\n",
       "  </thead>\n",
       "  <tbody>\n",
       "    <tr>\n",
       "      <th>L</th>\n",
       "      <td>117</td>\n",
       "      <td>4</td>\n",
       "      <td>85</td>\n",
       "    </tr>\n",
       "    <tr>\n",
       "      <th>C</th>\n",
       "      <td>48</td>\n",
       "      <td>3</td>\n",
       "      <td>28</td>\n",
       "    </tr>\n",
       "    <tr>\n",
       "      <th>R</th>\n",
       "      <td>95</td>\n",
       "      <td>4</td>\n",
       "      <td>75</td>\n",
       "    </tr>\n",
       "  </tbody>\n",
       "</table>\n",
       "</div>"
      ],
      "text/plain": [
       "Goalie    L  C   R\n",
       "Kicker            \n",
       "L       117  4  85\n",
       "C        48  3  28\n",
       "R        95  4  75"
      ]
     },
     "execution_count": 39,
     "metadata": {},
     "output_type": "execute_result"
    }
   ],
   "source": [
    "# frequency of kicks by (kicker, goalie) actions\n",
    "tab = pd.DataFrame(np.array([\n",
    "    [117, 48, 95],\n",
    "    [4, 3, 4], \n",
    "    [85, 28, 75]\n",
    "]).T, index=A, columns=A)\n",
    "tab.index.name = 'Kicker' \n",
    "tab.columns.name = 'Goalie'\n",
    "tab"
   ]
  },
  {
   "cell_type": "code",
   "execution_count": 24,
   "metadata": {},
   "outputs": [
    {
     "data": {
      "text/html": [
       "<div>\n",
       "<style scoped>\n",
       "    .dataframe tbody tr th:only-of-type {\n",
       "        vertical-align: middle;\n",
       "    }\n",
       "\n",
       "    .dataframe tbody tr th {\n",
       "        vertical-align: top;\n",
       "    }\n",
       "\n",
       "    .dataframe thead th {\n",
       "        text-align: right;\n",
       "    }\n",
       "</style>\n",
       "<table border=\"1\" class=\"dataframe\">\n",
       "  <thead>\n",
       "    <tr style=\"text-align: right;\">\n",
       "      <th>Goalie</th>\n",
       "      <th>L</th>\n",
       "      <th>C</th>\n",
       "      <th>R</th>\n",
       "    </tr>\n",
       "    <tr>\n",
       "      <th>Kicker</th>\n",
       "      <th></th>\n",
       "      <th></th>\n",
       "      <th></th>\n",
       "    </tr>\n",
       "  </thead>\n",
       "  <tbody>\n",
       "    <tr>\n",
       "      <th>L</th>\n",
       "      <td>0.63</td>\n",
       "      <td>1.00</td>\n",
       "      <td>0.94</td>\n",
       "    </tr>\n",
       "    <tr>\n",
       "      <th>C</th>\n",
       "      <td>0.81</td>\n",
       "      <td>0.00</td>\n",
       "      <td>0.89</td>\n",
       "    </tr>\n",
       "    <tr>\n",
       "      <th>R</th>\n",
       "      <td>0.90</td>\n",
       "      <td>1.00</td>\n",
       "      <td>0.44</td>\n",
       "    </tr>\n",
       "  </tbody>\n",
       "</table>\n",
       "</div>"
      ],
      "text/plain": [
       "Goalie    L    C    R\n",
       "Kicker               \n",
       "L      0.63 1.00 0.94\n",
       "C      0.81 0.00 0.89\n",
       "R      0.90 1.00 0.44"
      ]
     },
     "execution_count": 24,
     "metadata": {},
     "output_type": "execute_result"
    }
   ],
   "source": [
    "# the fraction of shots of each type that results in a goal\n",
    "goals = pd.DataFrame(np.array([\n",
    "    [63.2, 81.2, 89.5], \n",
    "    [100.0, 0., 100.0], \n",
    "    [94.1, 89.3, 44.0]\n",
    "]).T / 100.0, index=A, columns=A) # we transpose to have the Kicker be player 1 \n",
    "goals.index.name = 'Kicker' \n",
    "goals.columns.name = 'Goalie' \n",
    "goals"
   ]
  },
  {
   "cell_type": "code",
   "execution_count": 42,
   "metadata": {},
   "outputs": [
    {
     "name": "stdout",
     "output_type": "stream",
     "text": [
      "Found 1 equilibria:\n",
      "1: (array([0.43071471, 0.23768458, 0.33160071]), array([0.59066745, 0.09037212, 0.31896043]))\n",
      "Player 1 expected utility: [0.76583878 0.82335512 0.71398693]\n",
      "Player 2 expected utility: [-0.76333333 -0.82788671 -0.74185185]\n"
     ]
    },
    {
     "data": {
      "image/png": "[encoded data removed]",
      "text/plain": [
       "<Figure size 640x480 with 1 Axes>"
      ]
     },
     "metadata": {},
     "output_type": "display_data"
    }
   ],
   "source": [
    "U_1 = np.array([\n",
    "    [0.63, 1.00, 0.94],\n",
    "    [0.81, 0.00, 0.89],\n",
    "    [0.90, 1.00, 0.44]\n",
    "])\n",
    "\n",
    "U_2 = -U_1\n",
    "\n",
    "solve_for_MSNE(U_1, U_2, DOPLOT=True)\n",
    "\n",
    "emp1 = np.array([0.44880174291, 0.17211328976, 0.37908496732])\n",
    "emp2 = np.array([0.56644880174, 0.02396514161, 0.409586056644])\n",
    "\n",
    "EU_1 = U_1 @ emp2.T\n",
    "EU_2 = emp1 @ U_2\n",
    "\n",
    "print(f'Player 1 expected utility: {EU_1}')\n",
    "print(f'Player 2 expected utility: {EU_2}')"
   ]
  },
  {
   "cell_type": "markdown",
   "metadata": {},
   "source": [
    "Continue from here. "
   ]
  },
  {
   "cell_type": "code",
   "execution_count": 40,
   "metadata": {},
   "outputs": [
    {
     "name": "stdout",
     "output_type": "stream",
     "text": [
      "Found 1 equilibria:\n",
      "1: (array([0.47510397, 0.21760414, 0.30729189]), array([0.52086096, 0.18494905, 0.29418999]))\n",
      "Player 1 expected utility: [0.794763  0.7928754 0.7555995]\n",
      "Player 2 expected utility: [-0.7628667 -0.9418    -0.7170251]\n"
     ]
    },
    {
     "data": {
      "image/png": "[encoded data removed]",
      "text/plain": [
       "<Figure size 640x480 with 1 Axes>"
      ]
     },
     "metadata": {},
     "output_type": "display_data"
    }
   ],
   "source": [
    "\n",
    "# Define U_1 as a numpy array\n",
    "U1 = np.array([\n",
    "    [0.65, 1.00, 0.88],\n",
    "    [1.00, 0.00, 0.889],\n",
    "    [0.833, 1.00, 0.556]\n",
    "])\n",
    "\n",
    "# Define U_2 as the negation of U_1\n",
    "U2 = -U1\n",
    "\n",
    "# Solve for the mixed-strategy Nash equilibria \n",
    "solve_for_MSNE(U1, U2, DOPLOT=True)\n",
    "\n",
    "empirical_distribution_player_1 = np.array([0.4369, 0.0583, 0.5049])\n",
    "empirical_distribution_player_2 = np.array([0.4563, 0.165, 0.3786])\n",
    "Eu1 = U1 @ empirical_distribution_player_2.T  \n",
    "Eu2 = empirical_distribution_player_1 @ U2\n",
    "\n",
    "print(f'Player 1 expected utility: {Eu1}')\n",
    "print(f'Player 2 expected utility: {Eu2}')"
   ]
  },
  {
   "cell_type": "code",
   "execution_count": null,
   "metadata": {},
   "outputs": [],
   "source": []
  }
 ],
 "metadata": {
  "kernelspec": {
   "display_name": "Python 3 (ipykernel)",
   "language": "python",
   "name": "python3"
  },
  "language_info": {
   "codemirror_mode": {
    "name": "ipython",
    "version": 3
   },
   "file_extension": ".py",
   "mimetype": "text/x-python",
   "name": "python",
   "nbconvert_exporter": "python",
   "pygments_lexer": "ipython3",
   "version": "3.9.13"
  }
 },
 "nbformat": 4,
 "nbformat_minor": 4
}
