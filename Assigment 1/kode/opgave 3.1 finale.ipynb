{
 "cells": [
  {
   "cell_type": "code",
   "execution_count": 387,
   "metadata": {},
   "outputs": [],
   "source": [
    "import numpy as np\n",
    "from scipy.optimize import minimize\n",
    "from scipy.optimize import fsolve\n",
    "import pandas as pd \n",
    "import matplotlib.pyplot as plt \n"
   ]
  },
  {
   "cell_type": "code",
   "execution_count": 388,
   "metadata": {},
   "outputs": [],
   "source": [
    "#HJÆLPEFUNKTIONER\n",
    "\n"
   ]
  },
  {
   "cell_type": "code",
   "execution_count": 389,
   "metadata": {},
   "outputs": [],
   "source": [
    "# constants\n",
    "c = 0.5\n",
    "gamma = 1\n",
    "alpha = 3\n",
    "\n",
    "# utility functions\n",
    "def v1(y1):\n",
    "    return gamma - alpha * y1\n",
    "\n",
    "def v2(y2):\n",
    "    return gamma - alpha * y2\n",
    "\n",
    "# market share\n",
    "def s0(y1, y2):\n",
    "    return 1 / (1 + np.exp(v1(y1)) + np.exp(v2(y2)))\n",
    "\n",
    "def s1(y1, y2):\n",
    "    return np.exp(v1(y1)) / (1 + np.exp(v1(y1)) + np.exp(v2(y2)))\n",
    "\n",
    "def s2(y2, y1):\n",
    "    return np.exp(v2(y2)) / (1 + np.exp(v1(y1)) + np.exp(v2(y2)))\n",
    "\n",
    "# profit funktioner\n",
    "def profit1(y1, y2):\n",
    "    return (y1 - c) * s1(y1, y2)\n",
    "\n",
    "def profit2(y2, y1):\n",
    "    return (y2 - c) * s2(y2, y1)\n",
    "\n",
    "def profit(y): \n",
    "    assert y.size == 2 \n",
    "    y1, y2 = y\n",
    "    return profit1(y1,y2)+profit2(y2,y1)\n",
    "\n"
   ]
  },
  {
   "cell_type": "markdown",
   "metadata": {},
   "source": [
    "Find nash ligevægten "
   ]
  },
  {
   "cell_type": "code",
   "execution_count": 390,
   "metadata": {},
   "outputs": [
    {
     "name": "stdout",
     "output_type": "stream",
     "text": [
      "0.010035932238913671\n",
      "0.010035932238913671\n"
     ]
    }
   ],
   "source": [
    "\n",
    "#%% Functions\n",
    "def u1(y1, y2): \n",
    "    return profit1(y1, y2)\n",
    "\n",
    "def u2(y2, y1): # note the order!\n",
    "    return profit2(y2, y1)\n",
    "\n",
    "def u(y): \n",
    "    assert y.size == 2 \n",
    "    y1, y2 = y\n",
    "    return u1(y1,y2) + u2(y2,y1)\n",
    "\n",
    "print(u1(2,3))\n",
    "print(u2(2,3))\n",
    "\n",
    "y0 = np.array([0.5,0.5])"
   ]
  },
  {
   "cell_type": "code",
   "execution_count": 391,
   "metadata": {},
   "outputs": [
    {
     "data": {
      "image/png": "[encoded data removed]",
      "text/plain": [
       "<Figure size 640x480 with 1 Axes>"
      ]
     },
     "metadata": {},
     "output_type": "display_data"
    }
   ],
   "source": [
    "##NASH\n",
    "# The Nash equilibrium is found where both players are best responding to each other. \n",
    "# We write the best response functions as numerical functions here; then we can re-use \n",
    "# them in other settings too \n",
    "\n",
    "    \n",
    "\n",
    "\n",
    "def BR2(y1): \n",
    "    f = lambda y2, y1=y1 : -u2(y2=y2,y1=y1)\n",
    "    res = minimize(f, y0[1])\n",
    "    y2 = res.x\n",
    "    return y2\n",
    "\n",
    "def BR1(y2):\n",
    "    f = lambda y1, y2=y2 : -u1(y1=y1,y2=y2)\n",
    "    res = minimize(f, y0[0])\n",
    "    y1 = res.x\n",
    "    return y1\n",
    "\n",
    "yy = np.linspace(0., 4., 100)\n",
    "yy1 = np.empty(yy.shape)\n",
    "yy2 = np.empty(yy.shape)\n",
    "for i,y in enumerate(yy): \n",
    "    yy1[i] = BR1(y)\n",
    "    yy2[i] = BR2(y)\n",
    "\n",
    "plt.plot(yy, yy2, label='BR2(y1)')\n",
    "plt.plot(yy1, yy, label='BR1(y2)')\n",
    "plt.legend()\n",
    "\n",
    "# Set axis limits and ticks\n",
    "plt.xlim(0, 1)\n",
    "plt.ylim(0, 1)\n",
    "plt.xticks(np.arange(0, 1.1, 0.1))\n",
    "plt.yticks(np.arange(0, 1.1, 0.1))\n",
    "\n",
    "# Labels\n",
    "plt.xlabel('$p_1$')\n",
    "plt.ylabel('$p_2$')\n",
    "\n",
    "plt.show()\n",
    "\n"
   ]
  },
  {
   "cell_type": "markdown",
   "metadata": {},
   "source": [
    "Opgave 3.1"
   ]
  },
  {
   "cell_type": "code",
   "execution_count": 395,
   "metadata": {},
   "outputs": [
    {
     "name": "stdout",
     "output_type": "stream",
     "text": [
      "IBR successful after 2 iterations\n",
      "spiller 1 og 2 sætter begge en pris på p = [[0.88659581]\n",
      " [0.88659581]]\n"
     ]
    }
   ],
   "source": [
    "   #%% Iterated Bast Response\n",
    "# Not always guaranteed to converge, but when it does we know that we have a Nash equilibrium. \n",
    "# we set a max number of iterations to avoid infinite loops\n",
    "def IBR(y0:np.ndarray, maxit=100, tol=1e-4) -> np.ndarray: \n",
    "    y1,y2 = y0 \n",
    "    success = False\n",
    "\n",
    "    for it in range(maxit): \n",
    "        y1_ = y1*1.\n",
    "        y2_ = y2*1.\n",
    "\n",
    "        y2 = BR2(y1)\n",
    "        y1 = BR1(y2)\n",
    "       \n",
    "\n",
    "        if (np.abs(y1-y1_).max() < tol) and (np.abs(y2-y2_).max() < tol):\n",
    "            print(f'IBR successful after {it} iterations')\n",
    "            success = True\n",
    "            break \n",
    "\n",
    "    if not success: \n",
    "        print(f'IBR failed after {it} iterations')\n",
    "\n",
    "    return np.array([y1,y2])\n",
    "\n",
    "yNE = IBR(y0)\n",
    "print(\"spiller 1 og 2 sætter begge en pris på p =\", yNE)\n"
   ]
  },
  {
   "cell_type": "markdown",
   "metadata": {},
   "source": [
    "Opgave 3.2"
   ]
  },
  {
   "cell_type": "code",
   "execution_count": 396,
   "metadata": {},
   "outputs": [
    {
     "name": "stdout",
     "output_type": "stream",
     "text": [
      "if they collude they each set the price at p = 0.9409969694003969\n"
     ]
    }
   ],
   "source": [
    "def BR_collude():\n",
    "    f = lambda y: -(u1(y[0], y[1]) + u2(y[1], y[0]))\n",
    "    res = minimize(f, y0)\n",
    "    return res.x\n",
    "\n",
    "result =BR_collude()\n",
    "print(\"if they collude they each set the price at p =\", result[0])"
   ]
  },
  {
   "cell_type": "markdown",
   "metadata": {},
   "source": [
    "Opgave 3.3\n"
   ]
  },
  {
   "cell_type": "code",
   "execution_count": 398,
   "metadata": {},
   "outputs": [
    {
     "data": {
      "text/plain": [
       "(0.8865908305380596, 0.8866113455288445)"
      ]
     },
     "execution_count": 398,
     "metadata": {},
     "output_type": "execute_result"
    }
   ],
   "source": [
    "from scipy.optimize import minimize\n",
    "import numpy as np\n",
    "\n",
    "# Negative profit functions (for minimization)\n",
    "def neg_profit_firm1(p1, p2):\n",
    "    return -(p1 - 0.5) * (np.exp(1 - 3*p1) / (np.exp(0) + np.exp(1 - 3*p1) + np.exp(1 - 3*p2)))\n",
    "\n",
    "def neg_profit_firm2(p1, p2):\n",
    "    return -(p2 - 0.5) * (np.exp(1 - 3*p2) / (np.exp(0) + np.exp(1 - 3*p1) + np.exp(1 - 3*p2)))\n",
    "\n",
    "# Initial price guesses\n",
    "p1, p2 = 1, 1\n",
    "\n",
    "# Iteration settings\n",
    "tolerance = 1e-6\n",
    "max_iterations = 10000\n",
    "iteration = 0\n",
    "\n",
    "# Track changes for each price\n",
    "delta_p1 = 1\n",
    "delta_p2 = 1\n",
    "\n",
    "while (delta_p1 > tolerance or delta_p2 > tolerance) and iteration < max_iterations:\n",
    "    iteration += 1\n",
    "    \n",
    "    # Optimize p1 given p2\n",
    "    res1 = minimize(lambda p1: neg_profit_firm1(p1[0], p2), x0=[p1], bounds=[(0, None)])\n",
    "    new_p1 = res1.x[0]\n",
    "    delta_p1 = np.abs(new_p1 - p1)\n",
    "    p1 = new_p1\n",
    "    \n",
    "    # Optimize p2 given new p1 twice for better adjustment\n",
    "    res2 = minimize(lambda p2: neg_profit_firm2(p1, p2[0]), x0=[p2], bounds=[(0, None)])\n",
    "    new_p2 = res2.x[0]\n",
    "    res2 = minimize(lambda p2: neg_profit_firm2(p1, p2[0]), x0=[new_p2], bounds=[(0, None)])\n",
    "    new_p2 = res2.x[0]\n",
    "    \n",
    "    delta_p2 = np.abs(new_p2 - p2)\n",
    "    p2 = new_p2\n",
    "\n",
    "p1, p2"
   ]
  }
 ],
 "metadata": {
  "kernelspec": {
   "display_name": "base",
   "language": "python",
   "name": "python3"
  },
  "language_info": {
   "codemirror_mode": {
    "name": "ipython",
    "version": 3
   },
   "file_extension": ".py",
   "mimetype": "text/x-python",
   "name": "python",
   "nbconvert_exporter": "python",
   "pygments_lexer": "ipython3",
   "version": "3.10.9"
  }
 },
 "nbformat": 4,
 "nbformat_minor": 2
}
